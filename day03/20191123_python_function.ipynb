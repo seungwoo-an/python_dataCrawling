{
 "cells": [
  {
   "cell_type": "markdown",
   "metadata": {},
   "source": [
    "# << 함수 >>\n",
    "\n",
    "반복적으로 사용하는 기능을 묶어서 함수로 정의하면 간편하게 사용할 수 있다.\n",
    "\n",
    "▶ 기본 문법 \n",
    "\n",
    "         def 함수이름(매개변수) :\n",
    "\n",
    "             <수행할 내용1>\n",
    "             <수행할 내용2>\n",
    "             <수행할 내용3>\n",
    "             \n",
    "             return \n",
    "\n",
    "            \n",
    "\n",
    "▶ 매개변수 \n",
    "\n",
    "        - 함수 안에서 사용할 값을 전달하는 변수로 <수행할 내용> 문장에서 변수로 사용된다.\n",
    "        \n",
    "        - 함수 정의문에서는 매개변수로서 선언되며 실제로 함수를 호출할 때는 인자값으로 전달된다.\n",
    "        \n",
    "        \n",
    "▶ 용어\n",
    "\n",
    "        - def : 함수를 정의할 때 사용하는 키워드\n",
    "        \n",
    "        - return : 함수의 결과값을 반환하는 키워드\n",
    "        \n",
    "        - 입력값 = 인수, 입력 인수, 인자\n",
    "        \n",
    "        - 결과값 = 출력값, 리턴값, 돌려주는 값, 반환 값"
   ]
  },
  {
   "cell_type": "code",
   "execution_count": 1,
   "metadata": {},
   "outputs": [
    {
     "name": "stdout",
     "output_type": "stream",
     "text": [
      "안녕하세요\n",
      "사용해주셔서 감사합니다.\n",
      "이 프로그램은 크롤링 프로그램이며\n",
      "저작권은 채종훈에게 있습니다.\n"
     ]
    }
   ],
   "source": [
    "print(\"안녕하세요\")\n",
    "print(\"사용해주셔서 감사합니다.\")\n",
    "print(\"이 프로그램은 크롤링 프로그램이며\")\n",
    "print(\"저작권은 채종훈에게 있습니다.\")"
   ]
  },
  {
   "cell_type": "code",
   "execution_count": 3,
   "metadata": {},
   "outputs": [
    {
     "ename": "NameError",
     "evalue": "name 'b' is not defined",
     "output_type": "error",
     "traceback": [
      "\u001b[1;31m---------------------------------------------------------------------------\u001b[0m",
      "\u001b[1;31mNameError\u001b[0m                                 Traceback (most recent call last)",
      "\u001b[1;32m<ipython-input-3-7955e49a58b2>\u001b[0m in \u001b[0;36m<module>\u001b[1;34m\u001b[0m\n\u001b[0;32m      2\u001b[0m \u001b[1;32mdef\u001b[0m \u001b[0mplus\u001b[0m\u001b[1;33m(\u001b[0m\u001b[1;33m)\u001b[0m\u001b[1;33m:\u001b[0m\u001b[1;33m\u001b[0m\u001b[1;33m\u001b[0m\u001b[0m\n\u001b[0;32m      3\u001b[0m     \u001b[0mprint\u001b[0m\u001b[1;33m(\u001b[0m\u001b[0mb\u001b[0m \u001b[1;33m+\u001b[0m\u001b[1;36m1\u001b[0m\u001b[1;33m)\u001b[0m\u001b[1;33m\u001b[0m\u001b[1;33m\u001b[0m\u001b[0m\n\u001b[1;32m----> 4\u001b[1;33m \u001b[0mplus\u001b[0m\u001b[1;33m(\u001b[0m\u001b[1;33m)\u001b[0m\u001b[1;31m#NameError: name 'b' is not defined\u001b[0m\u001b[1;33m\u001b[0m\u001b[1;33m\u001b[0m\u001b[0m\n\u001b[0m",
      "\u001b[1;32m<ipython-input-3-7955e49a58b2>\u001b[0m in \u001b[0;36mplus\u001b[1;34m()\u001b[0m\n\u001b[0;32m      1\u001b[0m \u001b[1;31m# 기본적인 함수의 예제(불완전한 실행문)\u001b[0m\u001b[1;33m\u001b[0m\u001b[1;33m\u001b[0m\u001b[1;33m\u001b[0m\u001b[0m\n\u001b[0;32m      2\u001b[0m \u001b[1;32mdef\u001b[0m \u001b[0mplus\u001b[0m\u001b[1;33m(\u001b[0m\u001b[1;33m)\u001b[0m\u001b[1;33m:\u001b[0m\u001b[1;33m\u001b[0m\u001b[1;33m\u001b[0m\u001b[0m\n\u001b[1;32m----> 3\u001b[1;33m     \u001b[0mprint\u001b[0m\u001b[1;33m(\u001b[0m\u001b[0mb\u001b[0m \u001b[1;33m+\u001b[0m\u001b[1;36m1\u001b[0m\u001b[1;33m)\u001b[0m\u001b[1;33m\u001b[0m\u001b[1;33m\u001b[0m\u001b[0m\n\u001b[0m\u001b[0;32m      4\u001b[0m \u001b[0mplus\u001b[0m\u001b[1;33m(\u001b[0m\u001b[1;33m)\u001b[0m\u001b[1;31m#NameError: name 'b' is not defined\u001b[0m\u001b[1;33m\u001b[0m\u001b[1;33m\u001b[0m\u001b[0m\n",
      "\u001b[1;31mNameError\u001b[0m: name 'b' is not defined"
     ]
    }
   ],
   "source": [
    "# 기본적인 함수의 예제(불완전한 실행문)\n",
    "def plus():\n",
    "    print(b +1)\n",
    "plus()#NameError: name 'b' is not defined\n"
   ]
  },
  {
   "cell_type": "code",
   "execution_count": 4,
   "metadata": {},
   "outputs": [],
   "source": [
    "# 기본적인 함수의 예제(불완전한 실행문)\n",
    "def plus(b):\n",
    "    print(b +1)"
   ]
  },
  {
   "cell_type": "code",
   "execution_count": 5,
   "metadata": {},
   "outputs": [
    {
     "name": "stdout",
     "output_type": "stream",
     "text": [
      "11\n"
     ]
    }
   ],
   "source": [
    "plus(10)"
   ]
  },
  {
   "cell_type": "code",
   "execution_count": 6,
   "metadata": {},
   "outputs": [],
   "source": [
    "# return문의 역할\n",
    "def plus2(a):\n",
    "    return a + 1"
   ]
  },
  {
   "cell_type": "code",
   "execution_count": 12,
   "metadata": {},
   "outputs": [
    {
     "name": "stdout",
     "output_type": "stream",
     "text": [
      "결과값 :  4\n",
      "4\n",
      "결과값 :  None\n"
     ]
    }
   ],
   "source": [
    "print(\"결과값 : \",plus2(3))#호출문(plus2(3))이 4로 치환되는 것과 같음\n",
    "print(\"결과값 : \",plus(3))#none (return할 값이 없음)"
   ]
  },
  {
   "cell_type": "markdown",
   "metadata": {},
   "source": [
    "### (참고) 매개변수과 인수\n",
    "\n",
    "#### 매개변수(parameter, 입력인자, 입력값)\n",
    "함수에 전달된 값을 저장하는 변수 / 함수를 선언할 때 정의하는 변수\n",
    "\n",
    "\n",
    "#### 인수 / 인자 (argument)\n",
    "함수를 호출(=사용)할 때 전달하는 입력 값"
   ]
  },
  {
   "cell_type": "code",
   "execution_count": 13,
   "metadata": {},
   "outputs": [],
   "source": [
    "# 매개변수를 2개 이상 받는 케이스\n",
    "def sum(a,b):\n",
    "    result=a+b\n",
    "    return result"
   ]
  },
  {
   "cell_type": "code",
   "execution_count": 14,
   "metadata": {},
   "outputs": [
    {
     "data": {
      "text/plain": [
       "30"
      ]
     },
     "execution_count": 14,
     "metadata": {},
     "output_type": "execute_result"
    }
   ],
   "source": [
    "sum(10,20)"
   ]
  },
  {
   "cell_type": "markdown",
   "metadata": {},
   "source": [
    "### 2. 매개변수 있는 함수\n",
    "- 인자 값을 전달할 때 값만 입력하면 순서대로 매개변수에 할당된다.\n",
    "- 매개변수 명을 지정하여 전달할 수 있다."
   ]
  },
  {
   "cell_type": "code",
   "execution_count": 28,
   "metadata": {},
   "outputs": [],
   "source": [
    "#파라미터 3개인 함수 설정\n",
    "def test(a,b,c):\n",
    "    print(a,b,c)\n",
    "    result=a+b+c\n",
    "    return result"
   ]
  },
  {
   "cell_type": "code",
   "execution_count": 29,
   "metadata": {},
   "outputs": [
    {
     "name": "stdout",
     "output_type": "stream",
     "text": [
      "1 2 3\n"
     ]
    },
    {
     "data": {
      "text/plain": [
       "6"
      ]
     },
     "execution_count": 29,
     "metadata": {},
     "output_type": "execute_result"
    }
   ],
   "source": [
    "test(1,2,3)"
   ]
  },
  {
   "cell_type": "code",
   "execution_count": 27,
   "metadata": {},
   "outputs": [
    {
     "name": "stdout",
     "output_type": "stream",
     "text": [
      "10 30 20\n"
     ]
    },
    {
     "data": {
      "text/plain": [
       "60"
      ]
     },
     "execution_count": 27,
     "metadata": {},
     "output_type": "execute_result"
    }
   ],
   "source": [
    "# 인자값 순서 바꿔서 전달(반드시 매개변수명으로 지정한 변수명을 써야함)\n",
    "test(c=20,a=10,b=30)"
   ]
  },
  {
   "cell_type": "markdown",
   "metadata": {},
   "source": [
    "### 2-1. 매개변수 초기 값 설정\n",
    "\n",
    "- 함수 정의문에서 매개변수 값을 할당하면 초기 값으로 설정\n",
    "    - 함수 호출 시 값이 없어도 default로 들어감\n",
    "\n",
    "\n",
    "- 함수 호출 시 값을 입력하지 않으면 초기 값으로 사용\n",
    "\n",
    "\n",
    "- 초기화시키고 싶은 매개변수들을 항상 뒤쪽에 위치\n",
    "\n",
    "(참고) 포맷팅함수에서 인덱스 번호, 변수명 사용했던 규칙과 유사"
   ]
  },
  {
   "cell_type": "code",
   "execution_count": 32,
   "metadata": {},
   "outputs": [],
   "source": [
    "# 디폴트값 선언을 사용한 예시\n",
    "def test2(a=1,b=2,c=3):\n",
    "    result = a+b+c\n",
    "    return result"
   ]
  },
  {
   "cell_type": "code",
   "execution_count": 36,
   "metadata": {},
   "outputs": [
    {
     "name": "stdout",
     "output_type": "stream",
     "text": [
      "60 6\n"
     ]
    }
   ],
   "source": [
    "print(test2(10,20,30),test2())"
   ]
  },
  {
   "cell_type": "code",
   "execution_count": 45,
   "metadata": {},
   "outputs": [],
   "source": [
    "# default값 설정은 반드시 오른쪽 요소부터 지정한다.\n",
    "def test3(a,b,c=0):\n",
    "    result=a+b+c\n",
    "    return result"
   ]
  },
  {
   "cell_type": "code",
   "execution_count": 46,
   "metadata": {},
   "outputs": [
    {
     "data": {
      "text/plain": [
       "3"
      ]
     },
     "execution_count": 46,
     "metadata": {},
     "output_type": "execute_result"
    }
   ],
   "source": [
    "test3(1,2)"
   ]
  },
  {
   "cell_type": "markdown",
   "metadata": {},
   "source": [
    "### 가변인자 리스트\n",
    "- 입력할 파라미터의 개수가 몇 개인지 모를 때 사용함\n",
    "- 파라미터명 왼쪽에 *를 붙인다"
   ]
  },
  {
   "cell_type": "code",
   "execution_count": 48,
   "metadata": {},
   "outputs": [
    {
     "name": "stdout",
     "output_type": "stream",
     "text": [
      "출석학생은 승우입니다.\n"
     ]
    }
   ],
   "source": [
    "def get_member_list(p1):\n",
    "    print(\"출석학생은 %s입니다.\"%p1)\n",
    "get_member_list('승우')"
   ]
  },
  {
   "cell_type": "code",
   "execution_count": 52,
   "metadata": {},
   "outputs": [
    {
     "name": "stdout",
     "output_type": "stream",
     "text": [
      "출석학생은 승우, 우승입니다.\n"
     ]
    }
   ],
   "source": [
    "def get_member_list2(p1,p2):\n",
    "    print(\"출석학생은 %s, %s입니다.\"%(p1,p2))\n",
    "get_member_list2('승우','우승')"
   ]
  },
  {
   "cell_type": "code",
   "execution_count": 59,
   "metadata": {},
   "outputs": [
    {
     "name": "stdout",
     "output_type": "stream",
     "text": [
      "(11, 1, 1, 1, 1, 1, 1, 1, 1, 1, 1, 1, 1, 1, 11)\n",
      "<class 'tuple'>\n",
      "1 번째 학생 :  11\n",
      "2 번째 학생 :  1\n",
      "3 번째 학생 :  1\n",
      "4 번째 학생 :  1\n",
      "5 번째 학생 :  1\n",
      "6 번째 학생 :  1\n",
      "7 번째 학생 :  1\n",
      "8 번째 학생 :  1\n",
      "9 번째 학생 :  1\n",
      "10 번째 학생 :  1\n",
      "11 번째 학생 :  1\n",
      "12 번째 학생 :  1\n",
      "13 번째 학생 :  1\n",
      "14 번째 학생 :  1\n",
      "15 번째 학생 :  11\n"
     ]
    }
   ],
   "source": [
    "def get_members(*stu):#몇개를 넣어도 들어감\n",
    "    print(stu)\n",
    "    print(type(stu))\n",
    "    cnt=1\n",
    "    for st in stu:\n",
    "        print(cnt,\"번째 학생 : \",st)\n",
    "        cnt+=1\n",
    "get_members(11,1,1,1,1,1,1,1,1,1,1,1,1,1,11)"
   ]
  },
  {
   "cell_type": "markdown",
   "metadata": {},
   "source": [
    "## 키워드 파라미터 kwargs(keyword arguments) -> **\n",
    "- 딕셔너리 형태로 저장되는 매개변수로 정의\n",
    "- 제한 없음\n",
    "- key : value 쌍으로 넣어줘야함"
   ]
  },
  {
   "cell_type": "code",
   "execution_count": 61,
   "metadata": {},
   "outputs": [
    {
     "data": {
      "text/plain": [
       "{'name': '승우', 'age': 'unknown'}"
      ]
     },
     "execution_count": 61,
     "metadata": {},
     "output_type": "execute_result"
    }
   ],
   "source": [
    "def test4(**kwargs):\n",
    "    return kwargs\n",
    "test4(name=\"승우\",age='unknown')"
   ]
  },
  {
   "cell_type": "markdown",
   "metadata": {},
   "source": [
    "### 7. 함수의 결과 값\n",
    "\n",
    "- 함수의 결과 값은 항상 1개(하나의 변수로 받을 수 있어야함)\n",
    "\n",
    "- 여러 개의 결과를 가질 수 있지만 하나의 튜플로 전달(하나의 변수에 넣을 수 있게 포장해주는 것)\n",
    "\n",
    "\n",
    "▶ 기본 문법\n",
    " \n",
    "          def 함수이름(매개변수이름):\n",
    "\n",
    "             return 결과값 1 , 결과값 2 -> 파이썬에서만 가능\n",
    "             def(함수) 하면 (결과값 1, 결과값 2) 반환\n"
   ]
  },
  {
   "cell_type": "code",
   "execution_count": 62,
   "metadata": {},
   "outputs": [],
   "source": [
    "#return 키워드는 전달받은 결과들을 하나의 튜플로 묶어서 반환\n",
    "#최종적으로 하나의 변수에 담을 수 있는 하나의 값으로 처리된다\n",
    "def test(a,b):\n",
    "    sum_=a+b\n",
    "    mul=a*b\n",
    "    return sum_,mul"
   ]
  },
  {
   "cell_type": "code",
   "execution_count": 64,
   "metadata": {},
   "outputs": [
    {
     "name": "stdout",
     "output_type": "stream",
     "text": [
      "(7, 12)\n"
     ]
    }
   ],
   "source": [
    "#결과를 통째로 가져오기\n",
    "a=test(3,4)\n",
    "print(a)"
   ]
  },
  {
   "cell_type": "code",
   "execution_count": 66,
   "metadata": {},
   "outputs": [
    {
     "name": "stdout",
     "output_type": "stream",
     "text": [
      "9\n",
      "20\n"
     ]
    }
   ],
   "source": [
    "# 결과를 개별 변수에 쪼개서 가져오기\n",
    "s,m=test(4,5)\n",
    "print(s)\n",
    "print(m)"
   ]
  },
  {
   "cell_type": "markdown",
   "metadata": {},
   "source": [
    "## <<문제>>\n",
    "#### 1. 입력받은 모든 수의 평균값을 계산하는 함수를 작성\n",
    "     - 조건 : 숫자의 개수는 정해져 있지 않음"
   ]
  },
  {
   "cell_type": "code",
   "execution_count": 74,
   "metadata": {},
   "outputs": [
    {
     "data": {
      "text/plain": [
       "0"
      ]
     },
     "execution_count": 74,
     "metadata": {},
     "output_type": "execute_result"
    }
   ],
   "source": [
    "def avg(*nums):\n",
    "    if not nums:\n",
    "        return 0#전달 및 종료\n",
    "    sum=0\n",
    "    for num in nums:\n",
    "        sum+=num\n",
    "    avg=sum/len(nums)\n",
    "    return avg\n",
    "avg(1,2,3,4,5,6,7,8,9,10,234,234,1,45,74,4)\n",
    "avg()"
   ]
  },
  {
   "cell_type": "markdown",
   "metadata": {},
   "source": [
    "#### 2. 리스트로 입력받은 수들에 대해 양수만 필터링하여 반환해주는 함수를 작성해보세요.\n",
    "\n",
    "- 조건1. 입력값은 인자값으로 리스트를 전달\n",
    "\n",
    "- 조건2. 결과값은 양수로만 구성된 새로운 리스트"
   ]
  },
  {
   "cell_type": "code",
   "execution_count": 80,
   "metadata": {},
   "outputs": [
    {
     "data": {
      "text/plain": [
       "[1, 2, 24, 23]"
      ]
     },
     "execution_count": 80,
     "metadata": {},
     "output_type": "execute_result"
    }
   ],
   "source": [
    "def pos(*tmp):\n",
    "    p_ls=[]\n",
    "    for num in tmp:\n",
    "        if num>0:\n",
    "            p_ls.append(num)\n",
    "    return p_ls\n",
    "pos(1,2,-13,24,-61,23)"
   ]
  }
 ],
 "metadata": {
  "kernelspec": {
   "display_name": "Python 3",
   "language": "python",
   "name": "python3"
  },
  "language_info": {
   "codemirror_mode": {
    "name": "ipython",
    "version": 3
   },
   "file_extension": ".py",
   "mimetype": "text/x-python",
   "name": "python",
   "nbconvert_exporter": "python",
   "pygments_lexer": "ipython3",
   "version": "3.7.4"
  }
 },
 "nbformat": 4,
 "nbformat_minor": 2
}
