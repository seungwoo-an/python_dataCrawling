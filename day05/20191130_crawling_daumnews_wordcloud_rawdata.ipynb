{
 "cells": [
  {
   "cell_type": "code",
   "execution_count": 1,
   "metadata": {},
   "outputs": [],
   "source": [
    "#라이브러리\n",
    "from selenium import webdriver\n",
    "from bs4 import BeautifulSoup\n",
    "import time\n",
    "import codecs"
   ]
  },
  {
   "cell_type": "code",
   "execution_count": 43,
   "metadata": {},
   "outputs": [],
   "source": [
    "driver = webdriver.Chrome('C:/Users/SJ/data1112/chromedriver.exe')\n",
    "\n",
    "link=[]\n",
    "for i in range(1,275):\n",
    "    driver.get('https://news.daum.net/breakingnews/society?page=%d'%i)\n",
    "    source=driver.page_source\n",
    "    s1=BeautifulSoup(source,'html.parser')\n",
    "    articles=s1.find_all('div',class_='cont_thumb')\n",
    "    for i in range(len(articles)):\n",
    "        link.append(str(articles[i].find_all('a',class_='link_txt')).split('\"')[3])\n",
    "    for i in range(2):link.pop()\n",
    "    time.sleep(2)\n"
   ]
  },
  {
   "cell_type": "code",
   "execution_count": 44,
   "metadata": {},
   "outputs": [],
   "source": [
    "driver = webdriver.Chrome('C:/Users/SJ/data1112/chromedriver.exe')\n",
    "rank=0\n",
    "f = codecs.open('C:/Users/SJ/data1112/day05/daumNews.txt',encoding='utf-8', mode='w')\n",
    "for count in range(len(link)):\n",
    "    driver.get(link[count])\n",
    "    source = driver.page_source\n",
    "    s1 = BeautifulSoup(source,'html.parser')\n",
    "    s_content = s1.find_all('div',id='mArticle',class_='hcg_media_pc_mArticle')\n",
    "    rank+=1\n",
    "    f.write(\"%s번째 기사\\r\\n\"%rank)\n",
    "    f.write(s_content[0].text.replace('  ','').replace('\\n','').replace('\\t','')+'\\r\\n')\n",
    "    f.write('='*60+'\\r\\n')\n",
    "    time.sleep(2)\n",
    "f.close()\n",
    "driver.close()"
   ]
  }
 ],
 "metadata": {
  "kernelspec": {
   "display_name": "Python 3",
   "language": "python",
   "name": "python3"
  },
  "language_info": {
   "codemirror_mode": {
    "name": "ipython",
    "version": 3
   },
   "file_extension": ".py",
   "mimetype": "text/x-python",
   "name": "python",
   "nbconvert_exporter": "python",
   "pygments_lexer": "ipython3",
   "version": "3.7.4"
  }
 },
 "nbformat": 4,
 "nbformat_minor": 2
}
