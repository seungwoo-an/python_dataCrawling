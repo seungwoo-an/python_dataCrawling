{
 "cells": [
  {
   "cell_type": "code",
   "execution_count": 1,
   "metadata": {},
   "outputs": [],
   "source": [
    "#라이브러리 임포트\n",
    "from selenium import webdriver\n",
    "from bs4 import BeautifulSoup\n",
    "import time\n",
    "import codecs"
   ]
  },
  {
   "cell_type": "code",
   "execution_count": 15,
   "metadata": {},
   "outputs": [],
   "source": [
    "driver = webdriver.Chrome('C:/Users/SJ/data1112/chromedriver.exe')\n",
    "driver.get('https://www.aladin.co.kr/shop/common/wbest.aspx?BranchType=1&start=we')\n",
    "\n",
    "source=driver.page_source\n",
    "\n",
    "\n"
   ]
  },
  {
   "cell_type": "code",
   "execution_count": 58,
   "metadata": {},
   "outputs": [
    {
     "data": {
      "text/plain": [
       "50"
      ]
     },
     "execution_count": 58,
     "metadata": {},
     "output_type": "execute_result"
    }
   ],
   "source": [
    "s1 = BeautifulSoup(source,'html.parser')\n",
    "s_book=s1.find_all('div',class_='ss_book_box')\n",
    "len(s_book)#50\n",
    "author_result=[]\n",
    "title_result=[]\n",
    "price_result=[]\n",
    "for j in range(len(s_book)):\n",
    "    result=s_book[j].find_all('li')#find_all 로 가져온 자료에 다시 find_all을 걸 수 있음\n",
    "    for i in range(4):\n",
    "        if i==0:\n",
    "            continue\n",
    "        elif i%4==1:\n",
    "            title_result.append(result[i].text.replace('\\xa0',''))\n",
    "        elif i%4==2:\n",
    "            author_result.append(result[i].text)\n",
    "        elif i%4==3:\n",
    "            price_result.append(result[i].text)\n",
    "#print(title_result)\n",
    "#print(price_result)\n",
    "#print(author_result)\n",
    "author_result=[]\n",
    "title_result=[]\n",
    "price_result=[]\n",
    "for item in s_book:\n",
    "    title_result.append(item.find_all('li')[1].text)\n",
    "    author_result.append(item.find_all('li')[2].text)\n",
    "    price_result.append(item.find_all('li')[3].text)\n"
   ]
  },
  {
   "cell_type": "code",
   "execution_count": 64,
   "metadata": {},
   "outputs": [],
   "source": [
    "#text로 뽑아내기\n",
    "f = codecs.open('C:/Users/SJ/data1112/day04/aladin.txt',encoding='utf-8', mode='w')\n",
    "rank=0\n",
    "for item in s_book:\n",
    "    f.write(\"%d위 도서 정보\\r\\n\"%(rank+1))\n",
    "    f.write(item.find_all('li')[1].text+'\\r\\n')\n",
    "    f.write(item.find_all('li')[2].text+'\\r\\n')\n",
    "    f.write(item.find_all('li')[3].text+'\\r\\n')\n",
    "    f.write(\"-\"*40+'\\r\\n')\n",
    "    rank+=1\n",
    "f.close()"
   ]
  }
 ],
 "metadata": {
  "kernelspec": {
   "display_name": "Python 3",
   "language": "python",
   "name": "python3"
  },
  "language_info": {
   "codemirror_mode": {
    "name": "ipython",
    "version": 3
   },
   "file_extension": ".py",
   "mimetype": "text/x-python",
   "name": "python",
   "nbconvert_exporter": "python",
   "pygments_lexer": "ipython3",
   "version": "3.7.4"
  }
 },
 "nbformat": 4,
 "nbformat_minor": 2
}
