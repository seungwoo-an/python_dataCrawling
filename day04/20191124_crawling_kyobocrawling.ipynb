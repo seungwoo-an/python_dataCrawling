{
 "cells": [
  {
   "cell_type": "code",
   "execution_count": 3,
   "metadata": {},
   "outputs": [],
   "source": [
    "#베스트셀러 1~200\n",
    "#라이브러리 임포트\n",
    "from selenium import webdriver#데이터긁어오기\n",
    "from bs4 import BeautifulSoup#데이터 파싱\n",
    "import time\n",
    "import codecs#파일 생성,수정 .."
   ]
  },
  {
   "cell_type": "code",
   "execution_count": 100,
   "metadata": {},
   "outputs": [],
   "source": [
    "#드라이버 오픈\n",
    "driver = webdriver.Chrome(\"C:/Users/SJ/data1112/chromedriver.exe\")\n",
    "#교보문고 베스트셀러 페이지로 이동\n",
    "driver.get('http://www.kyobobook.co.kr/bestSellerNew/bestseller.laf')\n",
    "\n"
   ]
  },
  {
   "cell_type": "code",
   "execution_count": 101,
   "metadata": {},
   "outputs": [],
   "source": [
    "rank=0\n",
    "for count in range(10):\n",
    "    #전체 소스코드 가져오기\n",
    "    source = driver.page_source\n",
    "    s1=BeautifulSoup(source,'html.parser')\n",
    "    #파싱\n",
    "    s_author=s1.find_all('div',class_='author')\n",
    "    s_price=s1.find_all('div',class_='price')\n",
    "    s_title=s1.find_all('div',class_='title')\n",
    "    title_list=[]\n",
    "    author_list=[]\n",
    "    price_list=[]\n",
    "\n",
    "    for item in s_title[4:]:\n",
    "        title_list.append(item.text.strip().replace('\\n',''))\n",
    "    for item in s_author:\n",
    "        author_list.append(item.text.strip().replace('\\n','').replace('\\t','')[:3])\n",
    "    for item in s_price:\n",
    "        price_list.append(item.text.strip().replace('\\n','').replace('\\t',''))\n",
    "    if count==0:\n",
    "        f = codecs.open('C:/Users/SJ/data1112/day04/kyoboBest.txt',encoding='utf-8', mode='w')\n",
    "    else:\n",
    "        f = codecs.open('C:/Users/SJ/data1112/day04/kyoboBest.txt',encoding='utf-8', mode='a')\n",
    "    for i in range(len(title_list)):\n",
    "        rank+=1\n",
    "        f.write('%s\\r\\n'%rank)\n",
    "        f.write(title_list[i]+'\\r\\n')\n",
    "        f.write(author_list[i]+'\\r\\n')\n",
    "        f.write(price_list[i]+'\\r\\n')\n",
    "        f.write(\"=\"*60+'\\r\\n')\n",
    "        \n",
    "    #다음 페이지로 넘어가는 버튼 클릭\n",
    "    #driver.find_element_by_xpath('//*[@id=\"main_contents\"]/div[4]/div[1]/a')\n",
    "    #두개의 버튼의 각각의 위치정보가 다름\n",
    "    time.sleep(2)\n",
    "    if not count:\n",
    "        driver.find_element_by_css_selector('#main_contents > div:nth-child(6) > div.list_paging > a').click()\n",
    "    elif count==9:\n",
    "        pass\n",
    "    else:\n",
    "        driver.find_element_by_css_selector('#main_contents > div:nth-child(6) > div.list_paging > a.btn_next').click()\n",
    "        \n",
    "f.close()\n",
    "driver.close()"
   ]
  },
  {
   "cell_type": "code",
   "execution_count": null,
   "metadata": {},
   "outputs": [],
   "source": []
  }
 ],
 "metadata": {
  "kernelspec": {
   "display_name": "Python 3",
   "language": "python",
   "name": "python3"
  },
  "language_info": {
   "codemirror_mode": {
    "name": "ipython",
    "version": 3
   },
   "file_extension": ".py",
   "mimetype": "text/x-python",
   "name": "python",
   "nbconvert_exporter": "python",
   "pygments_lexer": "ipython3",
   "version": "3.7.4"
  }
 },
 "nbformat": 4,
 "nbformat_minor": 2
}
