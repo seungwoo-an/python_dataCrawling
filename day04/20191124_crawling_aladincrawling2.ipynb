{
 "cells": [
  {
   "cell_type": "code",
   "execution_count": 2,
   "metadata": {},
   "outputs": [],
   "source": [
    "#라이브러리 임포트\n",
    "from selenium import webdriver\n",
    "from bs4 import BeautifulSoup\n",
    "import time\n",
    "import codecs"
   ]
  },
  {
   "cell_type": "code",
   "execution_count": 13,
   "metadata": {},
   "outputs": [],
   "source": [
    "driver = webdriver.Chrome('C:/Users/SJ/data1112/chromedriver.exe')\n",
    "#순위 체크용 rank\n",
    "rank=0\n",
    "for count in range(20):\n",
    "    driver.get('https://www.aladin.co.kr/shop/common/wbest.aspx?BestType=Bestseller&BranchType=1&CID=0&page=%s&cnt=1000&SortOrder=1'\n",
    "               %(count+1))\n",
    "    source=driver.page_source\n",
    "    #파싱\n",
    "    s1 = BeautifulSoup(source,'html.parser')\n",
    "    s_book=s1.find_all('div',class_='ss_book_box')#class대신 id인경우 id를 넣어줌\n",
    "    \n",
    "    if count==0:\n",
    "        f = codecs.open('C:/Users/SJ/data1112/day04/aladinBest1~1000.txt',encoding='utf-8', mode='w')\n",
    "    else:\n",
    "        f = codecs.open('C:/Users/SJ/data1112/day04/aladinBest1~1000.txt',encoding='utf-8', mode='a')\n",
    "    for item in s_book:\n",
    "        rank+=1\n",
    "        f.write(\"%d위 도서 정보\\r\\n\"%rank)\n",
    "        f.write(item.find_all('li')[1].text+'\\r\\n')\n",
    "        f.write(item.find_all('li')[2].text+'\\r\\n')\n",
    "        f.write(item.find_all('li')[3].text+'\\r\\n')\n",
    "        f.write(\"-\"*40+'\\r\\n')\n",
    "    time.sleep(1)\n",
    "f.close()\n",
    "\n"
   ]
  }
 ],
 "metadata": {
  "kernelspec": {
   "display_name": "Python 3",
   "language": "python",
   "name": "python3"
  },
  "language_info": {
   "codemirror_mode": {
    "name": "ipython",
    "version": 3
   },
   "file_extension": ".py",
   "mimetype": "text/x-python",
   "name": "python",
   "nbconvert_exporter": "python",
   "pygments_lexer": "ipython3",
   "version": "3.7.4"
  }
 },
 "nbformat": 4,
 "nbformat_minor": 2
}
